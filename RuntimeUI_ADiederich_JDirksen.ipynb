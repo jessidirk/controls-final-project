{
 "cells": [
  {
   "cell_type": "markdown",
   "metadata": {
    "colab_type": "text",
    "id": "nxI3fruPUS1e"
   },
   "source": [
    "The runtime notebook should allow the user to select a saved protocol for each of the two heaters. The user should be able to view the selected protocols. Once the protocols have been selected, the PCR run should commence with the click of a start button and run until either (1) normal completion or (2) the user presses a stop button. A record of the run should be recorded to a data file."
   ]
  },
  {
   "cell_type": "markdown",
   "metadata": {
    "colab_type": "text",
    "id": "OEX3qKoe5lhE"
   },
   "source": [
    "Feedforward Control"
   ]
  },
  {
   "cell_type": "code",
   "execution_count": null,
   "metadata": {},
   "outputs": [],
   "source": [
    "pip install cvxpy"
   ]
  },
  {
   "cell_type": "code",
   "execution_count": 2,
   "metadata": {},
   "outputs": [],
   "source": [
    "%matplotlib inline\n",
    "import matplotlib.pyplot as plt\n",
    "from IPython.display import display\n",
    "import numpy as np\n",
    "import scipy.integrate as integrate\n",
    "from scipy.optimize import linprog\n",
    "import cvxpy as cp\n",
    "import ipywidgets as widgets\n",
    "import tclab\n",
    "import threading\n",
    "import datetime\n",
    "import glob\n",
    "import pandas as pd\n",
    "from scipy import interpolate"
   ]
  },
  {
   "cell_type": "code",
   "execution_count": 3,
   "metadata": {},
   "outputs": [
    {
     "data": {
      "image/png": "[encoded data removed]",
      "text/plain": [
       "<Figure size 540x180 with 2 Axes>"
      ]
     },
     "metadata": {
      "needs_background": "light"
     },
     "output_type": "display_data"
    }
   ],
   "source": [
    "def get_data(file):\n",
    "    \n",
    "    # collect data\n",
    "    df1 = pd.read_csv(file)\n",
    "    df2 = pd.read_csv(file)\n",
    "    tmax = max(df1['tp'].max(), df2['tp'].max())\n",
    "    t = np.linspace(0, tmax, int(tmax+1))\n",
    "    u1 = lambda t: np.interp(t, df1['tp'].to_numpy(), df1['Tp'].to_numpy())\n",
    "    u2 = lambda t: np.interp(t, df2['tp'].to_numpy(), df2['Tp'].to_numpy())\n",
    "    r = lambda t: np.array([u1(t), u2(t)])\n",
    "    \n",
    "    # graph\n",
    "    fig, ax = plt.subplots(1,2, figsize=(7.5,2.5))\n",
    "    ax[0].plot(df1['tp'], df1['Tp'], 'b')\n",
    "    ax[0].set(xlabel = 'Time (s)', ylabel = 'Temperature (deg C)')\n",
    "    ax[0].set_title('Temperature Profile for Heaters 1 & 2')\n",
    "    ax[0].grid(True)\n",
    "    ax[1].plot(u1(t), u2(t))\n",
    "    ax[1].set(xlabel = 'U1', ylabel = 'U1')\n",
    "    ax[1].set_title('Power Profile for Heaters 1 & 2')\n",
    "    ax[1].axis('square')\n",
    "    return u1, u2, r\n",
    "\n",
    "SP1, SP2, r = get_data('PCR/HeaterProtocol.csv')"
   ]
  },
  {
   "cell_type": "markdown",
   "metadata": {},
   "source": [
    "## Feedforward Control with PID Trim"
   ]
  },
  {
   "cell_type": "markdown",
   "metadata": {},
   "source": [
    "### Feedforward Function"
   ]
  },
  {
   "cell_type": "code",
   "execution_count": 86,
   "metadata": {},
   "outputs": [],
   "source": [
    "# parameter values\n",
    "Ua = 0.0250\n",
    "Ub = 0.0105\n",
    "Ta = SP1(0)\n",
    "Q_ps = 10\n",
    "Q1_max = 3.3\n",
    "Q2_max = 3.3\n",
    "T_ub = 100\n",
    "\n",
    "def feedforward_1(SP1, SP2, Ta):\n",
    "    c = np.array([0, 0, 0, 0, 1, 1, 1, 1])\n",
    "    A_ub = np.array([\n",
    "        [1, 1, 0, 0, 0, 0, 0, 0]\n",
    "    ])\n",
    "    b_ub = np.array([Q_ps])\n",
    "    A_eq = np.array([\n",
    "        [-1, 0, (Ua + Ub), -Ub, 0, 0, 0, 0],\n",
    "        [0, -1, -Ub, (Ua + Ub), 0, 0, 0, 0],\n",
    "        [0, 0, 1, 0, -1, 1, 0, 0],\n",
    "        [0, 0, 0, 1, 0, 0, -1, 1]\n",
    "    ])\n",
    "    b_eq = np.array([Ua*Ta, Ua*Ta, SP1, SP2])\n",
    "    bounds = [(0, Q1_max), (0, Q2_max), (Ta, T_ub), (Ta, T_ub), (0, None), (0, None), (0, None), (0, None)]\n",
    "    results = linprog(c, A_ub, b_ub, A_eq, b_eq, bounds)\n",
    "    Q1, Q2, T1, T2, _, _, _, _ = results.x\n",
    "    return [Q1, Q2, T1, T2]"
   ]
  },
  {
   "cell_type": "markdown",
   "metadata": {},
   "source": [
    "### Feedback Function"
   ]
  },
  {
   "cell_type": "code",
   "execution_count": 87,
   "metadata": {},
   "outputs": [],
   "source": [
    "class PID:\n",
    "    def __init__(self, kp=0.5, ki=0.5, kd=0.5, dt=1):\n",
    "        self.kp = kp\n",
    "        self.ki = ki\n",
    "        self.kd = kd\n",
    "\n",
    "        self.e = 0\n",
    "        self.e_prev = 0\n",
    "        self.dt = dt\n",
    "        \n",
    "        self.P = 0\n",
    "        self.I = 0\n",
    "        self.D = 0\n",
    "        \n",
    "    def update(self, sp, pv):\n",
    "        e = sp - pv\n",
    "        self.e = e\n",
    "        \n",
    "        self.P = self.kp * self.e\n",
    "        self.I += (self.e*self.ki*self.dt)\n",
    "        self.D = self.kd * (self.e - self.e_prev)/self.dt\n",
    "        \n",
    "        self.mv = self.P + self.I + self.D\n",
    "        self.e_prev = e\n",
    "        \n",
    "        return self.mv"
   ]
  },
  {
   "cell_type": "code",
   "execution_count": 67,
   "metadata": {
    "scrolled": true
   },
   "outputs": [
    {
     "data": {
      "application/vnd.jupyter.widget-view+json": {
       "model_id": "24d0ba1f76c742dfba9c8b30d88a6beb",
       "version_major": 2,
       "version_minor": 0
      },
      "text/plain": [
       "Output(layout=Layout(border='1px solid black', height='90px'))"
      ]
     },
     "metadata": {},
     "output_type": "display_data"
    },
    {
     "data": {
      "application/vnd.jupyter.widget-view+json": {
       "model_id": "9a4bcd4ac4404dc9a49f3252f2f1624e",
       "version_major": 2,
       "version_minor": 0
      },
      "text/plain": [
       "Output(layout=Layout(border='1px solid black', height='500px'))"
      ]
     },
     "metadata": {},
     "output_type": "display_data"
    }
   ],
   "source": [
    "%matplotlib notebook\n",
    "%matplotlib inline\n",
    "\n",
    "TCLab = tclab.setup(connected=False, speedup=5)\n",
    "\n",
    "def work(output, stop):\n",
    "    with output:\n",
    "        with TCLab() as lab:\n",
    "\n",
    "            # pre-run\n",
    "            lab.P1 = 255\n",
    "            lab.P2 = 255\n",
    "            sources = [\n",
    "                ('T1', lambda: lab.T1),\n",
    "                ('T2', lambda: lab.T2),\n",
    "                ('U1', lambda: lab.U1),\n",
    "                ('U2', lambda: lab.U2),\n",
    "                ('SP1', lambda: SP1(t)),\n",
    "                ('SP2', lambda: SP2(t))\n",
    "            ]\n",
    "            h = tclab.Historian(sources)\n",
    "            p = tclab.Plotter(h, 2000, layout=(('T1', 'SP1'), ('T2', 'SP2'),('U1','U2')))\n",
    "            feedback1 = PID(1, 0, 0.1, 5)\n",
    "            feedback2 = PID(1, 0, 0.1, 5)\n",
    "\n",
    "            # run\n",
    "            for t in tclab.clock(2000, 5):\n",
    "                Q1_ff, Q2_ff, T1, T2 = feedforward_1(SP1(t), SP2(t), Ta)\n",
    "                Q1_fb = feedback1.update(T1, lab.T1)\n",
    "                Q2_fb = feedback2.update(T2, lab.T2)\n",
    "                lab.U1 = 100*(Q1_ff + Q1_fb)/lab.P1/0.013\n",
    "                lab.U2 = 100*(Q2_ff + Q2_fb)/lab.P2/0.013\n",
    "                p.update(t)\n",
    "                if stop.value:\n",
    "                    break\n",
    "\n",
    "    # post-run\n",
    "    fname = datetime.datetime.now().strftime(\"Data/data_%Y%M%dT%H%M%S.csv\")\n",
    "    h.to_csv(fname)\n",
    "    print(\"Data saved to\", fname)\n",
    "            \n",
    "# widgets\n",
    "start = widgets.Button(description=\"Start\", button_style=\"success\")\n",
    "stop = widgets.Button(description=\"Stop\", button_style=\"\")\n",
    "output_plotter = widgets.Output(layout={'height': '500px', 'border': '1px solid black'})\n",
    "output_controls = widgets.Output(layout={'height': '90px', 'border': '1px solid black'})\n",
    "\n",
    "# thread\n",
    "thread = threading.Thread(target=work, args=(output_plotter, stop))\n",
    "\n",
    "# actions\n",
    "def start_button_clicked(b):\n",
    "    stop.value = False\n",
    "    start.button_style = \"\"\n",
    "    stop.button_style=\"success\"\n",
    "    thread.start()\n",
    "start.on_click(start_button_clicked)\n",
    "\n",
    "def stop_button_clicked(b):\n",
    "    stop.value = True\n",
    "    stop.button_style = \"\"\n",
    "    thread.join()\n",
    "stop.on_click(stop_button_clicked)\n",
    "\n",
    "# START THINGS UP\n",
    "display(output_controls)\n",
    "with output_controls:\n",
    "    display(widgets.HBox([start, stop]))\n",
    "display(output_plotter)           "
   ]
  },
  {
   "cell_type": "markdown",
   "metadata": {},
   "source": [
    "## Feedforward Setpoint Tracking Control with PID Trim"
   ]
  },
  {
   "cell_type": "markdown",
   "metadata": {},
   "source": [
    "### Feedforward Model Estimation"
   ]
  },
  {
   "cell_type": "code",
   "execution_count": 91,
   "metadata": {},
   "outputs": [],
   "source": [
    "# parameter values\n",
    "Ua = 0.036\n",
    "Ub = 0.010\n",
    "Uc = 0.08\n",
    "CpH = 4.9\n",
    "CpS = 1.26\n",
    "Ta = SP1(0)\n",
    "umax = 3.3\n",
    "uPS = 10\n",
    "xmax = 100 - Ta\n",
    "IC = np.array([0, 0, 0, 0])\n",
    "\n",
    "# system matrices\n",
    "A = np.array([[-(Ua+Ub+Uc)/CpH, Uc/CpH, Ub/CpH, 0],\n",
    "    [Uc/CpS, -Uc/CpS, 0, 0],\n",
    "    [Ub/CpH, 0, -(Ua+Ub+Uc)/CpH, Uc/CpH],\n",
    "    [0, 0, Uc/CpS, -Uc/CpS]])\n",
    "B = np.array([[1/CpH, 0], [0, 0], [0, 1/CpH], [0, 0]])\n",
    "C = np.array([[0, 1, 0, 0], [0, 0, 0, 1]])\n",
    "D = np.array([[0, 0], [0, 0]])\n",
    "\n",
    "# time grid\n",
    "dt = 5\n",
    "tf = 2000\n",
    "t, dt = np.linspace(0, tf, int(tf/dt) + 1, retstep=True)\n",
    "\n",
    "# discrete-time approximation\n",
    "Ad = np.eye(4) + dt*A\n",
    "Bd = dt*B\n",
    "\n",
    "# decision variables\n",
    "K = len(t)\n",
    "u = cp.Variable((K, 2))\n",
    "x = cp.Variable((K, 4))\n",
    "y = cp.Variable((K, 2))\n",
    "\n",
    "# objective\n",
    "\n",
    "objective = cp.Minimize(sum([cp.norm2(r(t[k]) - Ta - y[k])**2 for k in range(0, K)]))\n",
    "\n",
    "# constraints\n",
    "constraints = [x[0] == IC]\n",
    "constraints += [x[k+1] == Ad @ x[k] + Bd @ u[k] for k in range(0, K-1)]\n",
    "constraints += [y[k] == C @ x[k] + D @ u[k] for k in range(0, K)]\n",
    "constraints += [x[k] <= xmax for k in range(0, K)]\n",
    "constraints += [u[k] >= 0 for k in range(0, K)]\n",
    "constraints += [u[k] <= umax for k in range(0, K)]\n",
    "constraints += [sum(u[k]) <= uPS for k in range(0, K)]\n",
    "\n",
    "# solve\n",
    "prob = cp.Problem(objective, constraints)\n",
    "prob.solve()\n",
    "\n",
    "u = interpolate.interp1d(t, u.value, axis=0, fill_value=\"extrapolate\")\n",
    "tsim = np.linspace(0, tf, int(tf)+1)\n",
    "usim = [u(t) for t in tsim]\n"
   ]
  },
  {
   "cell_type": "markdown",
   "metadata": {},
   "source": [
    "### Feedback Function"
   ]
  },
  {
   "cell_type": "code",
   "execution_count": 97,
   "metadata": {},
   "outputs": [],
   "source": [
    "class PID:\n",
    "    def __init__(self, kp=0.5, ki=0.5, kd=0.5, dt=1):\n",
    "        self.kp = kp\n",
    "        self.ki = ki\n",
    "        self.kd = kd\n",
    "\n",
    "        self.e = 0\n",
    "        self.dt = dt\n",
    "        \n",
    "        self.P = 0\n",
    "        self.I = 0\n",
    "        self.D = 0\n",
    "        \n",
    "        self.mv_prev = 0\n",
    "        self.e_prev = 0\n",
    "        self.deriv_prev = 0\n",
    "        \n",
    "    def update(self, sp, pv):\n",
    "        e = sp - pv\n",
    "        self.e = e\n",
    "        \n",
    "        self.P = self.kp * (self.e - self.e_prev)\n",
    "        self.I = self.ki * self.e * self.dt\n",
    "        self.D = self.kd * (((self.e - self.e_prev)/self.dt) - self.deriv_prev)\n",
    "        \n",
    "        self.mv = self.mv_prev  + self.P + self.I + self.D\n",
    "        \n",
    "        self.deriv_prev = (self.e - self.e_prev)/self.dt\n",
    "        self.e_prev = e\n",
    "        self.mv_prev = self.mv\n",
    "        \n",
    "        return self.mv"
   ]
  },
  {
   "cell_type": "code",
   "execution_count": 101,
   "metadata": {
    "scrolled": true
   },
   "outputs": [
    {
     "data": {
      "application/vnd.jupyter.widget-view+json": {
       "model_id": "da65f76b569b453baab193652148a14d",
       "version_major": 2,
       "version_minor": 0
      },
      "text/plain": [
       "Output(layout=Layout(border='1px solid black', height='90px'))"
      ]
     },
     "metadata": {},
     "output_type": "display_data"
    },
    {
     "data": {
      "application/vnd.jupyter.widget-view+json": {
       "model_id": "33944d91491b49278eaf688affcb2254",
       "version_major": 2,
       "version_minor": 0
      },
      "text/plain": [
       "Output(layout=Layout(border='1px solid black', height='500px'))"
      ]
     },
     "metadata": {},
     "output_type": "display_data"
    }
   ],
   "source": [
    "TCLab = tclab.setup(connected=False, speedup=5)\n",
    "\n",
    "def work(output, stop):\n",
    "    with output:\n",
    "        with TCLab() as lab:\n",
    "\n",
    "            # pre-run\n",
    "            lab.P1 = 255\n",
    "            lab.P2 = 255\n",
    "            sources = [\n",
    "                ('T1', lambda: lab.T1),\n",
    "                ('T2', lambda: lab.T2),\n",
    "                ('U1', lambda: lab.U1),\n",
    "                ('U2', lambda: lab.U2),\n",
    "                ('SP1', lambda: SP1(t)),\n",
    "                ('SP2', lambda: SP1(t))\n",
    "            ]\n",
    "            h = tclab.Historian(sources)\n",
    "            p = tclab.Plotter(h, 2000, layout=(('T1', 'SP1'), ('T2', 'SP2'),('U1','U2')))\n",
    "            feedback1 = PID(1, 0, 1, 5)\n",
    "            feedback2 = PID(1, 0, 1, 5)\n",
    "    \n",
    "            # run\n",
    "            for t in tclab.clock(2000, 5):\n",
    "                x = int(t)\n",
    "                Q1_ff, Q2_ff = usim[x]\n",
    "                Q1_fb = feedback1.update(SP1(t), lab.T1)\n",
    "                Q2_fb = feedback2.update(SP2(t), lab.T2)\n",
    "                lab.U1 = 100*((Q1_ff/umax)+(Q1_fb/(lab.P1*0.013)))\n",
    "                lab.U2 = 100*((Q2_ff/umax)+(Q2_fb/(lab.P2*0.013)))\n",
    "                p.update(t)\n",
    "                if stop.value:\n",
    "                    break\n",
    "\n",
    "            # post-run\n",
    "            fname = datetime.datetime.now().strftime(\"Data/data_%Y%M%dT%H%M%S.csv\")\n",
    "            h.to_csv(fname)\n",
    "            print(\"Data saved to\", fname)\n",
    "            \n",
    "# widgets\n",
    "start = widgets.Button(description=\"Start\", button_style=\"success\")\n",
    "stop = widgets.Button(description=\"Stop\", button_style=\"\")\n",
    "output_plotter = widgets.Output(layout={'height': '500px', 'border': '1px solid black'})\n",
    "output_controls = widgets.Output(layout={'height': '90px', 'border': '1px solid black'})\n",
    "\n",
    "# thread\n",
    "thread = threading.Thread(target=work, args=(output_plotter, stop))\n",
    "\n",
    "# actions\n",
    "def start_button_clicked(b):\n",
    "    stop.value = False\n",
    "    start.button_style = \"\"\n",
    "    stop.button_style=\"success\"\n",
    "    thread.start()\n",
    "start.on_click(start_button_clicked)\n",
    "\n",
    "def stop_button_clicked(b):\n",
    "    stop.value = True\n",
    "    stop.button_style = \"\"\n",
    "    thread.join()\n",
    "stop.on_click(stop_button_clicked)\n",
    "\n",
    "# START THINGS UP\n",
    "display(output_controls)\n",
    "with output_controls:\n",
    "    display(widgets.HBox([start, stop]))\n",
    "display(output_plotter)           "
   ]
  }
 ],
 "metadata": {
  "colab": {
   "collapsed_sections": [],
   "name": "Runtime UI.ipynb",
   "provenance": []
  },
  "kernelspec": {
   "display_name": "Python 3",
   "language": "python",
   "name": "python3"
  },
  "language_info": {
   "codemirror_mode": {
    "name": "ipython",
    "version": 3
   },
   "file_extension": ".py",
   "mimetype": "text/x-python",
   "name": "python",
   "nbconvert_exporter": "python",
   "pygments_lexer": "ipython3",
   "version": "3.7.4"
  }
 },
 "nbformat": 4,
 "nbformat_minor": 1
}
