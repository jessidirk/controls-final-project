{
 "cells": [
  {
   "cell_type": "code",
   "execution_count": 2,
   "metadata": {},
   "outputs": [],
   "source": [
    "import ipywidgets as widgets\n",
    "from IPython.display import display\n",
    "import numpy as np\n",
    "import matplotlib.pyplot as plt\n",
    "import pandas as pd\n",
    "import glob"
   ]
  },
  {
   "cell_type": "code",
   "execution_count": 44,
   "metadata": {},
   "outputs": [
    {
     "data": {
      "application/vnd.jupyter.widget-view+json": {
       "model_id": "51223d1230ff48ed97a15a220a8a686f",
       "version_major": 2,
       "version_minor": 0
      },
      "text/plain": [
       "interactive(children=(Combobox(value='data/data_20201107T201114.csv', description='file1', ensure_option=True,…"
      ]
     },
     "metadata": {},
     "output_type": "display_data"
    },
    {
     "data": {
      "text/plain": [
       "<function __main__.get_data(file1, file2)>"
      ]
     },
     "execution_count": 44,
     "metadata": {},
     "output_type": "execute_result"
    }
   ],
   "source": [
    "import glob\n",
    "csv_files = glob.glob(\"data/*.csv\")\n",
    "\n",
    "def get_data(file1, file2):\n",
    "    fig, ax = plt.subplots(1,2, figsize=(15,5))\n",
    "    if file1:\n",
    "        df1 = pd.read_csv(file1)\n",
    "        ax[0].plot(df1['Time'], df1['T1'], 'b')\n",
    "    if file2:\n",
    "        df2 = pd.read_csv(file2)\n",
    "        ax[0].plot(df2['Time'], df2['T1'], 'r')\n",
    "    if file2:\n",
    "        df2 = pd.read_csv(file2)\n",
    "        ax[0].plot(df2['Time'], df2['SP1'], 'g')\n",
    "    ax[0].grid(True)\n",
    "    ax[0].set_title('Heater 1')\n",
    "    ax[0].legend(['T1','T2','SP2'])\n",
    "    \n",
    "    if file1:\n",
    "        df1 = pd.read_csv(file1)\n",
    "        ax[1].plot(df1['Time'], df1['T2'], 'b')\n",
    "    if file2:\n",
    "        df2 = pd.read_csv(file2)\n",
    "        ax[1].plot(df2['Time'], df2['T2'], 'r')\n",
    "    if file2:\n",
    "        df2 = pd.read_csv(file2)\n",
    "        ax[1].plot(df2['Time'], df2['SP2'], 'g')\n",
    "    ax[1].grid(True)\n",
    "    ax[1].set_title('Heater 2')\n",
    "    ax[1].legend(['T1','T2','SP2'])\n",
    "        \n",
    "\n",
    "widgets.interact(get_data, \n",
    "    file1 = widgets.Combobox(value=\"data/data_20201107T201114.csv\", options=csv_files, ensure_option=True),\n",
    "    file2 =  widgets.Combobox(value=\"data/2data_20202407T202426.csv\", options=csv_files, ensure_option=True)\n",
    ")"
   ]
  },
  {
   "cell_type": "markdown",
   "metadata": {},
   "source": []
  }
 ],
 "metadata": {
  "kernelspec": {
   "display_name": "Python 3",
   "language": "python",
   "name": "python3"
  },
  "language_info": {
   "codemirror_mode": {
    "name": "ipython",
    "version": 3
   },
   "file_extension": ".py",
   "mimetype": "text/x-python",
   "name": "python",
   "nbconvert_exporter": "python",
   "pygments_lexer": "ipython3",
   "version": "3.7.4"
  }
 },
 "nbformat": 4,
 "nbformat_minor": 2
}
